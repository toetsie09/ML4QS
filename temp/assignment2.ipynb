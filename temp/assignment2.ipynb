{
 "cells": [
  {
   "cell_type": "code",
   "execution_count": 11,
   "metadata": {},
   "outputs": [],
   "source": [
    "import sys\n",
    "sys.path.append('ML4QS-master')\n",
    "%matplotlib inline\n",
    "\n",
    "import copy\n",
    "import pandas as pd\n",
    "import matplotlib\n",
    "import matplotlib.pyplot as plt\n",
    "import matplotlib.dates as md\n",
    "\n",
    "# Settings for matplotlib to ensure readable plots\n",
    "plt.rcParams[\"figure.figsize\"] = [20,15]\n",
    "matplotlib.rc('font', **{'family' : 'normal', 'size'   : 22})\n",
    "matplotlib.rc('xtick',labelsize=22)\n",
    "matplotlib.rc('ytick',labelsize=22)\n",
    "\n",
    "# ignore DeprecationWarnings\n",
    "import warnings\n",
    "warnings.filterwarnings(\"ignore\", category=DeprecationWarning)\n",
    "warnings.filterwarnings(\"ignore\", category=FutureWarning)\n",
    "\n",
    "# import relevant ml4qs files\n",
    "from util import util\n",
    "from util.VisualizeDataset import VisualizeDataset\n",
    "from Chapter5.Clustering import NonHierarchicalClustering\n",
    "from Chapter5.Clustering import HierarchicalClustering\n",
    "\n",
    "# initialize relevant class instances\n",
    "DataViz = VisualizeDataset()\n",
    "clusteringNH = NonHierarchicalClustering()\n",
    "clusteringH = HierarchicalClustering()"
   ]
  },
  {
   "cell_type": "markdown",
   "metadata": {},
   "source": [
    "# Chapter 5 "
   ]
  },
  {
   "cell_type": "code",
   "execution_count": 35,
   "metadata": {},
   "outputs": [],
   "source": [
    "data = pd.read_csv('./ML4QS-master/intermediate_datafiles/chapter4_result.csv', index_col=0)\n",
    "data.index = data.index.to_datetime()"
   ]
  },
  {
   "cell_type": "markdown",
   "metadata": {},
   "source": [
    "## Q5.9.2.1\n",
    "We have focused on the phone’s accelerometer data in our clustering, but did not touch upon the other sensors. Cluster the gyroscope data for the crowdsignals dataset using k-means, k-medoids, and hierarchical clustering. Do you see a similar clustering as we have seen for the accelerometer data? And how do the clusters relate to the activity?\n",
    "\n",
    "(Because of interactive plots it is not handy to do this exercise in ipython notebook. See clustering.py for result)"
   ]
  },
  {
   "cell_type": "markdown",
   "metadata": {},
   "source": [
    "# Chapter 7"
   ]
  },
  {
   "cell_type": "markdown",
   "metadata": {},
   "source": [
    "# Chapter 8"
   ]
  },
  {
   "cell_type": "code",
   "execution_count": null,
   "metadata": {},
   "outputs": [],
   "source": []
  }
 ],
 "metadata": {
  "anaconda-cloud": {},
  "kernelspec": {
   "display_name": "Python [conda env:ml4qs]",
   "language": "python",
   "name": "conda-env-ml4qs-py"
  },
  "language_info": {
   "codemirror_mode": {
    "name": "ipython",
    "version": 2
   },
   "file_extension": ".py",
   "mimetype": "text/x-python",
   "name": "python",
   "nbconvert_exporter": "python",
   "pygments_lexer": "ipython2",
   "version": "2.7.12"
  }
 },
 "nbformat": 4,
 "nbformat_minor": 1
}
